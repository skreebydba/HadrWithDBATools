{
    "metadata": {
        "kernelspec": {
            "name": "powershell",
            "display_name": "PowerShell",
            "language": "powershell"
        },
        "language_info": {
            "name": "powershell",
            "codemirror_mode": "shell",
            "mimetype": "text/x-sh",
            "file_extension": ".ps1"
        }
    },
    "nbformat_minor": 2,
    "nbformat": 4,
    "cells": [
        {
            "cell_type": "markdown",
            "source": [
                "# Creating an Availability Group (AG) Using DBATools\r\n",
                "## Prerequisites\r\n",
                "* At least two servers joined to a Windows Server Failover Cluster without shared storage\r\n",
                "* Each server must be running Enterprise or Developer Edition and must be the same version\r\n",
                "* The log and data paths should be the same\r\n",
                "* Enable Always On Availability Groups for each instance to be added - NOTE: You can enable Always On Availability Groups from SQL Server Configuration Manager or by using the DBATools cmdlet ```\r\n",
                "Enable-DbaAgHadr.\r\n",
                "```\r\n",
                "* Each database to be added to the Availability Group must be in full recovery and have a full backup run\r\n",
                "\r\n",
                "This example uses Automatic Seeding, which is the easiest way to set up an AG.  You can find information about the other seeding options [here](https://docs.microsoft.com/en-us/sql/database-engine/availability-groups/windows/use-the-availability-group-wizard-sql-server-management-studio?view=sql-server-ver15).\r\n",
                "\r\n",
                "## Building an AG Using DBATools\r\n",
                "\r\n",
                "Once the prerequisites are met, ```New-DbaAvailabilityGroup``` builds your AG with a single command.\r\n",
                "\r\n",
                "\r\n",
                ""
            ],
            "metadata": {
                "azdata_cell_guid": "33c56726-9bd0-4f0f-b82d-42cc08f858c4"
            }
        },
        {
            "cell_type": "code",
            "source": [
                "$params = @{\r\n",
                " Primary = 'fbglexhavm2'\r\n",
                " Secondary = 'fbglexhavm3'\r\n",
                " Name = 'fbglexhaag1'\r\n",
                " Database= 'WWI'\r\n",
                " SeedingMode = 'Automatic'\r\n",
                " DatabaseHealthTrigger = $true\r\n",
                " DtcSupport = $true\r\n",
                " Confirm = $false\r\n",
                " }\r\n",
                "\r\n",
                "New-DbaAvailabilityGroup @params;"
            ],
            "metadata": {
                "azdata_cell_guid": "096d21d6-92b7-4941-a409-30b1b2fbded0"
            },
            "outputs": [
                {
                    "output_type": "stream",
                    "name": "stdout",
                    "text": ". {\n"
                },
                {
                    "output_type": "stream",
                    "name": "stdout",
                    "text": ">> $params = @{\n>>  Primary = 'fbglexhavm2'\n>>  Secondary = 'fbglexhavm3'\n>>  Name = 'fbglexhaag1'\n>>  Database= 'WWI'\n>>  SeedingMode = 'Automatic'\n>>  DatabaseHealthTrigger = $true\n>>  DtcSupport = $true\n>>  Confirm = $false\n>>  }\n>> \n>> New-DbaAvailabilityGroup @params;\n>> }\n>> \n"
                },
                {
                    "output_type": "stream",
                    "name": "stdout",
                    "text": "\n\nComputerName               : fbglexhavm2\nInstanceName               : MSSQLSERVER\nSqlInstance                : fbglexhavm2\nLocalReplicaRole           : Primary\nAvailabilityGroup          : fbglexhaag1\nPrimaryReplica             : fbglexhavm2\nClusterType                : Wsfc\nDtcSupportEnabled          : True\nAutomatedBackupPreference  : Secondary\nAvailabilityReplicas       : {fbglexhavm2, fbglexhavm3}\nAvailabilityDatabases      : {WWI}\nAvailabilityGroupListeners : {}\n\n\n\n"
                }
            ],
            "execution_count": 19
        },
        {
            "cell_type": "markdown",
            "source": [
                "# Create Agent Jobs to Test Sync-DbaAvailabilityGroup\r\n",
                "\r\n",
                "One of the challenges of running an AG is keeping non-database objects like logins and jobs synced between the replicas.  DbaTools provides cmdlet ```Sync-DbaAvailabilityGroup``` to maintain replicas.  To test this, I will use ```Install-DbaMaintenanceSolution``` to install Ola Hallengren's Maintenance Solution jobs."
            ],
            "metadata": {
                "azdata_cell_guid": "170492d4-c4d3-411c-81da-19ec17ca8ad6"
            },
            "attachments": {}
        },
        {
            "cell_type": "code",
            "source": [
                "Install-DbaMaintenanceSolution -SqlInstance fbglexhavm2 -Database master -ReplaceExisting -InstallJobs;"
            ],
            "metadata": {
                "azdata_cell_guid": "ab2b5f79-20eb-4d13-9b1c-4b338b27440a"
            },
            "outputs": [
                {
                    "output_type": "stream",
                    "name": "stdout",
                    "text": "\nComputerName InstanceName SqlInstance Results\n"
                },
                {
                    "output_type": "stream",
                    "name": "stdout",
                    "text": "------------ ------------ ----------- -------\nfbglexhavm2  MSSQLSERVER  fbglexhavm2 Success\n\n\n"
                }
            ],
            "execution_count": 20
        },
        {
            "cell_type": "markdown",
            "source": [
                "Confirm the jobs have been created using `Get-DbaAgentJob`. The jobs in the Maintenance Solution are all in category Database Maintenance.  Also, check the job list on the secondary replica."
            ],
            "metadata": {
                "azdata_cell_guid": "7e6b6a1a-2051-4c2a-b005-567ffd770008"
            },
            "attachments": {}
        },
        {
            "cell_type": "code",
            "source": [
                "Get-DbaAgentJob -SqlInstance fbglexhavm2 -Category 'Database Maintenance' | Select ComputerName, Name;\r\n",
                "Get-DbaAgentJob -SqlInstance fbglexhavm3 -Category 'Database Maintenance' | Select ComputerName, Name;"
            ],
            "metadata": {
                "azdata_cell_guid": "edad8083-140f-4384-a46f-73607a83e0ac"
            },
            "outputs": [
                {
                    "output_type": "stream",
                    "name": "stdout",
                    "text": ". {\n"
                },
                {
                    "output_type": "stream",
                    "name": "stdout",
                    "text": ">> Get-DbaAgentJob -SqlInstance fbglexhavm2 -Category 'Database Maintenance' | Select ComputerName, Name;\n>> Get-DbaAgentJob -SqlInstance fbglexhavm3 -Category 'Database Maintenance' | Select ComputerName, Name;\n>> }\n>> \n"
                },
                {
                    "output_type": "stream",
                    "name": "stdout",
                    "text": "\n"
                },
                {
                    "output_type": "stream",
                    "name": "stdout",
                    "text": "ComputerName Name                                     \n------------ ----                                     \nfbglexhavm2  CommandLog Cleanup                       \nfbglexhavm2  DatabaseBackup - SYSTEM_DATABASES - FULL \nfbglexhavm2  DatabaseBackup - USER_DATABASES - DIFF   \nfbglexhavm2  DatabaseBackup - USER_DATABASES - FULL   \nfbglexhavm2  DatabaseBackup - USER_DATABASES - LOG    \nfbglexhavm2  DatabaseIntegrityCheck - SYSTEM_DATABASES\nfbglexhavm2  DatabaseIntegrityCheck - USER_DATABASES  \nfbglexhavm2  IndexOptimize - USER_DATABASES           \nfbglexhavm2  Output File Cleanup                      \nfbglexhavm2  sp_delete_backuphistory                  \nfbglexhavm2  sp_purge_jobhistory                      \nfbglexhavm3  CommandLog Cleanup                       \nfbglexhavm3  Output File Cleanup                      \nfbglexhavm3  sp_delete_backuphistory                  \nfbglexhavm3  sp_purge_jobhistory                      \n\n\n"
                }
            ],
            "execution_count": 21
        },
        {
            "cell_type": "markdown",
            "source": [
                "Once the jobs have been created, sync them to the secondary replica using ```Sync-DbaAvailabilityGroup```. The cmdlet will sync the following object types:\r\n",
                "* SpConfigure \r\n",
                "* CustomErrors \r\n",
                "* Credentials \r\n",
                "* DatabaseMail \r\n",
                "* LinkedServers \r\n",
                "* Logins \r\n",
                "* LoginPermissions \r\n",
                "* SystemTriggers \r\n",
                "* DatabaseOwner \r\n",
                "* AgentCategory \r\n",
                "* AgentOperator \r\n",
                "* AgentAlert \r\n",
                "* AgentProxy \r\n",
                "* AgentSchedule \r\n",
                "* AgentJob\r\n",
                "\r\n",
                "For this example, everything but Agent jobs will be excluded.   "
            ],
            "metadata": {
                "azdata_cell_guid": "43090f7f-8c78-4f1a-b220-37db9699dac2"
            },
            "attachments": {}
        },
        {
            "cell_type": "code",
            "source": [
                "$primary = 'fbglexhavm2';\r\n",
                "$secondary = 'fbglexhavm3';\r\n",
                "$ag = 'fbglexhaag1';\r\n",
                "$exclude = \"SpConfigure\",\"CustomErrors\",\"Credentials\",\"DatabaseMail\",\"LinkedServers\",\"Logins\",\"LoginPermissions\",\"SystemTriggers\",\"DatabaseOwner\",\"AgentCategory\",\"AgentOperator\",\"AgentAlert\",\"AgentProxy\",\"AgentSchedule\";\r\n",
                "\r\n",
                "Sync-DbaAvailabilityGroup -Primary $primary -Secondary $secondary -AvailabilityGroup $ag -exclude $exclude;"
            ],
            "metadata": {
                "azdata_cell_guid": "ed330667-83e2-47e8-b2ba-9592f2adb4f5",
                "tags": []
            },
            "outputs": [
                {
                    "output_type": "stream",
                    "name": "stdout",
                    "text": "\n"
                },
                {
                    "output_type": "stream",
                    "name": "stdout",
                    "text": "Type      Name                                      Status     Notes                        \n----      ----                                      ------     -----                        \nAgent Job CommandLog Cleanup                        Skipped    Already exists on destination\nAgent Job DatabaseBackup - SYSTEM_DATABASES - FULL  Successful                              \nAgent Job DatabaseBackup - USER_DATABASES - DIFF    Successful                              \nAgent Job DatabaseBackup - USER_DATABASES - FULL    Successful                              \nAgent Job DatabaseBackup - USER_DATABASES - LOG     Successful                              \nAgent Job DatabaseIntegrityCheck - SYSTEM_DATABASES Successful                              \nAgent Job DatabaseIntegrityCheck - USER_DATABASES   Successful                              \nAgent Job IndexOptimize - USER_DATABASES            Successful                              \nAgent Job Output File Cleanup                       Skipped    Already exists on destination\nAgent Job sp_delete_backuphistory                   Skipped    Already exists on destination\nAgent Job sp_purge_jobhistory                       Skipped    Already exists on destination\nAgent Job syspolicy_purge_history                   Skipped    Already exists on destination\nAgent Job CommandLog Cleanup                        Skipped    Already exists on destination\nAgent Job DatabaseBackup - SYSTEM_DATABASES - FULL  Skipped    Already exists on destination\nAgent Job DatabaseBackup - USER_DATABASES - DIFF    Skipped    Already exists on destination\nAgent Job DatabaseBackup - USER_DATABASES - FULL    Skipped    Already exists on destination\nAgent Job DatabaseBackup - USER_DATABASES - LOG     Skipped    Already exists on destination\nAgent Job DatabaseIntegrityCheck - SYSTEM_DATABASES Skipped    Already exists on destination\nAgent Job DatabaseIntegrityCheck - USER_DATABASES   Skipped    Already exists on destination\nAgent Job IndexOptimize - USER_DATABASES            Skipped    Already exists on destination\nAgent Job Output File Cleanup                       Skipped    Already exists on destination\nAgent Job sp_delete_backuphistory                   Skipped    Already exists on destination\nAgent Job sp_purge_jobhistory                       Skipped    Already exists on destination\nAgent Job syspolicy_purge_history                   Skipped    Already exists on destination\n\n\n"
                }
            ],
            "execution_count": 22
        },
        {
            "cell_type": "markdown",
            "source": [
                "# Failover Availability Group\r\n",
                "\r\n",
                "Once the secondary replica has been synced, the AG is ready to be failed over. The ```Invoke-DbaAgFailover``` cmdlet will perform the failover."
            ],
            "metadata": {
                "azdata_cell_guid": "aea0bb64-e7af-42c6-b695-3baec3f55aad"
            }
        },
        {
            "cell_type": "code",
            "source": [
                "$newprimary = 'fbglexhavm2';\r\n",
                "$oldprimary = 'fbglexhavm3'\r\n",
                "$ag = 'fbglexhaag1';\r\n",
                "Invoke-DbaAgFailover -SqlInstance $newprimary -AvailabilityGroup $ag -Force;\r\n",
                "Resume-DbaAgDbDataMovement -SqlInstance $oldprimary -AvailabilityGroup $ag -Database WWI -Confirm:$false;"
            ],
            "metadata": {
                "azdata_cell_guid": "a0b4c85f-33f8-484d-b1af-a4b68aaee190"
            },
            "outputs": [
                {
                    "output_type": "stream",
                    "name": "stdout",
                    "text": "\n\nComputerName               : fbglexhavm2\nInstanceName               : MSSQLSERVER\nSqlInstance                : fbglexhavm2\nLocalReplicaRole           : Primary\nAvailabilityGroup          : fbglexhaag1\nPrimaryReplica             : fbglexhavm2\nClusterType                : Wsfc\nDtcSupportEnabled          : True\nAutomatedBackupPreference  : Secondary\nAvailabilityReplicas       : {fbglexhavm2, fbglexhavm3}\nAvailabilityDatabases      : {WWI}\nAvailabilityGroupListeners : {}\n\n"
                },
                {
                    "output_type": "stream",
                    "name": "stdout",
                    "text": "ComputerName         : fbglexhavm3\nInstanceName         : MSSQLSERVER\nSqlInstance          : fbglexhavm3\nAvailabilityGroup    : fbglexhaag1\nLocalReplicaRole     : Secondary\nName                 : WWI\nSynchronizationState : NotSynchronizing\nIsFailoverReady      : False\nIsJoined             : True\nIsSuspended          : False\n\n\n\n"
                },
                {
                    "output_type": "stream",
                    "name": "stdout",
                    "text": ""
                }
            ],
            "execution_count": 29
        }
    ]
}