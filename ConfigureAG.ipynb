{
    "metadata": {
        "kernelspec": {
            "name": "powershell",
            "display_name": "PowerShell",
            "language": "powershell"
        },
        "language_info": {
            "name": "powershell",
            "codemirror_mode": "shell",
            "mimetype": "text/x-sh",
            "file_extension": ".ps1"
        },
        "extensions": {
            "azuredatastudio": {
                "version": 1,
                "views": []
            }
        }
    },
    "nbformat_minor": 2,
    "nbformat": 4,
    "cells": [
        {
            "cell_type": "markdown",
            "source": [
                "# Creating an Availability Group (AG) Using DBATools\r\n",
                "## Prerequisites\r\n",
                "* At least two servers joined to a Windows Server Failover Cluster without shared storage\r\n",
                "* Each server must be running Enterprise or Developer Edition and must be the same version\r\n",
                "* The log and data paths should be the same\r\n",
                "* Enable Always On Availability Groups for each instance to be added - NOTE: You can enable Always On Availability Groups from SQL Server Configuration Manager or by using the DBATools cmdlet ```\r\n",
                "Enable-DbaAgHadr.\r\n",
                "```\r\n",
                "* Each database to be added to the Availability Group must be in full recovery and have a full backup run\r\n",
                "\r\n",
                "This example uses Automatic Seeding, which is the easiest way to set up an AG.  You can find information about the other seeding options [here](https://docs.microsoft.com/en-us/sql/database-engine/availability-groups/windows/use-the-availability-group-wizard-sql-server-management-studio?view=sql-server-ver15).\r\n",
                "\r\n",
                "## Building an AG Using DBATools\r\n",
                "\r\n",
                "Once the prerequisites are met, ```New-DbaAvailabilityGroup``` builds your AG with a single command.\r\n",
                "\r\n",
                "\r\n",
                ""
            ],
            "metadata": {
                "azdata_cell_guid": "33c56726-9bd0-4f0f-b82d-42cc08f858c4",
                "extensions": {
                    "azuredatastudio": {
                        "views": []
                    }
                }
            }
        },
        {
            "cell_type": "code",
            "source": [
                "$params = @{\r\n",
                " Primary = 'fbgtrisqlagvm2'\r\n",
                " Secondary = 'fbgtrisqlagvm3'\r\n",
                " Name = 'fbgtrisqlag1'\r\n",
                " Database= 'WideWorldImporters'\r\n",
                " SeedingMode = 'Automatic'\r\n",
                " DatabaseHealthTrigger = $true\r\n",
                " DtcSupport = $true\r\n",
                " Confirm = $false\r\n",
                " }\r\n",
                "\r\n",
                "New-DbaAvailabilityGroup @params;"
            ],
            "metadata": {
                "azdata_cell_guid": "096d21d6-92b7-4941-a409-30b1b2fbded0",
                "extensions": {
                    "azuredatastudio": {
                        "views": []
                    }
                }
            },
            "outputs": [
                {
                    "name": "stdout",
                    "text": "\n\nComputerName               : fbgtrisqlagvm2\nInstanceName               : MSSQLSERVER\nSqlInstance                : fbgtrisqlagvm2\nLocalReplicaRole           : Primary\nAvailabilityGroup          : fbgtrisqlag1\nPrimaryReplica             : fbgtrisqlagvm2\nClusterType                : Wsfc\nDtcSupportEnabled          : True\nAutomatedBackupPreference  : Secondary\nAvailabilityReplicas       : {fbgtrisqlagvm2, fbgtrisqlagvm3}\nAvailabilityDatabases      : {WideWorldImporters}\nAvailabilityGroupListeners : {}\n\n\n\n",
                    "output_type": "stream"
                }
            ],
            "execution_count": 1
        },
        {
            "cell_type": "markdown",
            "source": [
                "## Create Dynamic Network Name Listener\r\n",
                "In 2019, Microsoft introduced the Dynamic Network Name listener.  This removes the need for a load balancer when creating an Availability Group listener for an AG in Azure.  The following script will create a DNN listener."
            ],
            "metadata": {
                "azdata_cell_guid": "bae1eed9-0158-49e8-b3c1-c199c0ec85d8",
                "extensions": {
                    "azuredatastudio": {
                        "views": []
                    }
                }
            },
            "attachments": {}
        },
        {
            "cell_type": "code",
            "source": [
                "$ag = 'fbgtrisqlag1';\r\n",
                "$dns = 'fbgtrisqlaglist';\r\n",
                "$port = '1437';\r\n",
                "\r\n",
                "$ErrorActionPreference = \"Stop\"\r\n",
                "\r\n",
                "# create the DNN resource with the port as the resource name\r\n",
                "Add-ClusterResource -Name $Port -ResourceType \"Distributed Network Name\" -Group $Ag \r\n",
                "\r\n",
                "# set the DNS name of the DNN resource\r\n",
                "Get-ClusterResource -Name $Port | Set-ClusterParameter -Name DnsName -Value $Dns \r\n",
                "\r\n",
                "# start the DNN resource\r\n",
                "Start-ClusterResource -Name $Port\r\n",
                "\r\n",
                "$Dep = Get-ClusterResourceDependency -Resource $Ag\r\n",
                "if ( $Dep.DependencyExpression -match '\\s*\\((.*)\\)\\s*' )\r\n",
                "{\r\n",
                "    $DepStr = \"$($Matches.1) or [$Port]\";\r\n",
                "}\r\n",
                "else\r\n",
                "{\r\n",
                "    $DepStr = \"[$Port]\";\r\n",
                "}\r\n",
                "\r\n",
                "# add the Dependency from availability group resource to the DNN resource\r\n",
                "Set-ClusterResourceDependency -Resource $Ag -Dependency \"$DepStr\";\r\n",
                "\r\n",
                "\r\n",
                "#bounce the AG resource\r\n",
                "Stop-ClusterResource -Name $Ag;\r\n",
                "Start-ClusterResource -Name $Ag;"
            ],
            "metadata": {
                "azdata_cell_guid": "9af724a9-23e7-448c-9994-e29b3c4acb4a",
                "extensions": {
                    "azuredatastudio": {
                        "views": []
                    }
                },
                "tags": []
            },
            "outputs": [
                {
                    "name": "stdout",
                    "text": "\n",
                    "output_type": "stream"
                },
                {
                    "name": "stdout",
                    "text": "Name State   OwnerGroup   ResourceType            \n---- -----   ----------   ------------            \n1437 Offline fbgtrisqlag1 Distributed Network Name\n1437 Online  fbgtrisqlag1 Distributed Network Name\n",
                    "output_type": "stream"
                },
                {
                    "name": "stdout",
                    "text": "f... Offline fbgtrisqlag1 SQL Server Availabili...\n",
                    "output_type": "stream"
                },
                {
                    "name": "stdout",
                    "text": "f... Online  fbgtrisqlag1 SQL Server Availabili...\n\n\n",
                    "output_type": "stream"
                }
            ],
            "execution_count": 3
        },
        {
            "cell_type": "markdown",
            "source": [
                "## Create Agent Jobs to Test Sync-DbaAvailabilityGroup\r\n",
                "\r\n",
                "One of the challenges of running an AG is keeping non-database objects like logins and jobs synced between the replicas.  DbaTools provides cmdlet ```Sync-DbaAvailabilityGroup``` to maintain replicas.  To test this, I will use ```Install-DbaMaintenanceSolution``` to install Ola Hallengren's Maintenance Solution jobs."
            ],
            "metadata": {
                "azdata_cell_guid": "170492d4-c4d3-411c-81da-19ec17ca8ad6",
                "extensions": {
                    "azuredatastudio": {
                        "views": []
                    }
                }
            },
            "attachments": {}
        },
        {
            "cell_type": "code",
            "source": [
                "Install-DbaMaintenanceSolution -SqlInstance fbgtrisqlagvm2 -Database master -ReplaceExisting -InstallJobs;"
            ],
            "metadata": {
                "azdata_cell_guid": "ab2b5f79-20eb-4d13-9b1c-4b338b27440a",
                "extensions": {
                    "azuredatastudio": {
                        "views": []
                    }
                }
            },
            "outputs": [],
            "execution_count": null
        },
        {
            "cell_type": "markdown",
            "source": [
                "Confirm the jobs have been created using `Get-DbaAgentJob`. The jobs in the Maintenance Solution are all in category Database Maintenance.  Also, check the job list on the secondary replica."
            ],
            "metadata": {
                "azdata_cell_guid": "7e6b6a1a-2051-4c2a-b005-567ffd770008",
                "extensions": {
                    "azuredatastudio": {
                        "views": []
                    }
                }
            },
            "attachments": {}
        },
        {
            "cell_type": "code",
            "source": [
                "Get-DbaAgentJob -SqlInstance fbgtrisqlagvm2 -Category 'Database Maintenance' | Select ComputerName, Name;\r\n",
                "Get-DbaAgentJob -SqlInstance fbgtrisqlagvm3 -Category 'Database Maintenance' | Select ComputerName, Name;"
            ],
            "metadata": {
                "azdata_cell_guid": "edad8083-140f-4384-a46f-73607a83e0ac",
                "extensions": {
                    "azuredatastudio": {
                        "views": []
                    }
                }
            },
            "outputs": [],
            "execution_count": null
        },
        {
            "cell_type": "markdown",
            "source": [
                "Once the jobs have been created, sync them to the secondary replica using ```Sync-DbaAvailabilityGroup```. The cmdlet will sync the following object types:\r\n",
                "* SpConfigure \r\n",
                "* CustomErrors \r\n",
                "* Credentials \r\n",
                "* DatabaseMail \r\n",
                "* LinkedServers \r\n",
                "* Logins \r\n",
                "* LoginPermissions \r\n",
                "* SystemTriggers \r\n",
                "* DatabaseOwner \r\n",
                "* AgentCategory \r\n",
                "* AgentOperator \r\n",
                "* AgentAlert \r\n",
                "* AgentProxy \r\n",
                "* AgentSchedule \r\n",
                "* AgentJob\r\n",
                "\r\n",
                "For this example, everything but Agent jobs will be excluded.   "
            ],
            "metadata": {
                "azdata_cell_guid": "43090f7f-8c78-4f1a-b220-37db9699dac2",
                "extensions": {
                    "azuredatastudio": {
                        "views": []
                    }
                }
            },
            "attachments": {}
        },
        {
            "cell_type": "code",
            "source": [
                "$primary = 'fbgtrisqlagvm2';\r\n",
                "$secondary = 'fbgtrisqlagvm3';\r\n",
                "$ag = 'fbgtrisqlag1';\r\n",
                "$exclude = \"SpConfigure\",\"CustomErrors\",\"Credentials\",\"DatabaseMail\",\"LinkedServers\",\"Logins\",\"LoginPermissions\",\"SystemTriggers\",\"DatabaseOwner\",\"AgentCategory\",\"AgentOperator\",\"AgentAlert\",\"AgentProxy\",\"AgentSchedule\";\r\n",
                "\r\n",
                "Sync-DbaAvailabilityGroup -Primary $primary -Secondary $secondary -AvailabilityGroup $ag -exclude $exclude;"
            ],
            "metadata": {
                "azdata_cell_guid": "ed330667-83e2-47e8-b2ba-9592f2adb4f5",
                "tags": [],
                "extensions": {
                    "azuredatastudio": {
                        "views": []
                    }
                }
            },
            "outputs": [],
            "execution_count": null
        },
        {
            "cell_type": "markdown",
            "source": [
                "## Failover Availability Group\r\n",
                "\r\n",
                "Once the secondary replica has been synced, the AG is ready to be failed over. The ```Invoke-DbaAgFailover``` cmdlet will perform the failover."
            ],
            "metadata": {
                "azdata_cell_guid": "aea0bb64-e7af-42c6-b695-3baec3f55aad",
                "extensions": {
                    "azuredatastudio": {
                        "views": []
                    }
                }
            },
            "attachments": {}
        },
        {
            "cell_type": "code",
            "source": [
                "$newprimary = 'fbgtrisqlagvm3';\r\n",
                "$oldprimary = 'fbgtrisqlagvm2'\r\n",
                "$ag = 'fbgtrisqlag1';\r\n",
                "Invoke-DbaAgFailover -SqlInstance $newprimary -AvailabilityGroup $ag -Force;\r\n",
                "Resume-DbaAgDbDataMovement -SqlInstance $oldprimary -AvailabilityGroup $ag -Database WideWorldImporters -Confirm:$false;"
            ],
            "metadata": {
                "azdata_cell_guid": "a0b4c85f-33f8-484d-b1af-a4b68aaee190",
                "extensions": {
                    "azuredatastudio": {
                        "views": []
                    }
                }
            },
            "outputs": [],
            "execution_count": null
        }
    ]
}