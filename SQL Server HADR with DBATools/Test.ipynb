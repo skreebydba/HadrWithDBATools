{
    "metadata": {
        "kernelspec": {
            "name": "SQL",
            "display_name": "SQL",
            "language": "sql"
        },
        "language_info": {
            "name": "sql",
            "version": ""
        }
    },
    "nbformat_minor": 2,
    "nbformat": 4,
    "cells": [
        {
            "cell_type": "markdown",
            "source": [
                "Test"
            ],
            "metadata": {
                "azdata_cell_guid": "a7421eb1-2d6d-409c-b862-ce3c3c41d57e"
            },
            "attachments": {}
        }
    ]
}