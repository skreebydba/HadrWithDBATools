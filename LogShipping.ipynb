{
    "metadata": {
        "kernelspec": {
            "name": "powershell",
            "display_name": "PowerShell",
            "language": "powershell"
        },
        "language_info": {
            "name": "powershell",
            "codemirror_mode": "shell",
            "mimetype": "text/x-sh",
            "file_extension": ".ps1"
        }
    },
    "nbformat_minor": 2,
    "nbformat": 4,
    "cells": [
        {
            "cell_type": "markdown",
            "source": [
                "# DBATools Log Shipping Demo\r\n",
                "## Configure Log Shipping"
            ],
            "metadata": {
                "azdata_cell_guid": "cc0d80f8-da67-4433-b0c6-e9a2af79a6d6"
            },
            "attachments": {}
        },
        {
            "cell_type": "code",
            "source": [
                "Remove-Item -Path \"C:\\LogShipping\\LSTest\\*\";\r\n",
                "Remove-Item -Path \"\\\\localhost\\LogShippingDest\\LSTest\\*\";\r\n",
                "Remove-Item -Path \"C:\\LogShippingDest\\LSTest\\*\";\r\n",
                "\r\n",
                "$params = @{\r\n",
                " SourceSqlInstance = 'localhost'\r\n",
                " DestinationSqlInstance = 'localhost\\tony'\r\n",
                " Database = 'LSTest'\r\n",
                " SharedPath= '\\\\localhost\\LogShipping'\r\n",
                " LocalPath= 'C:\\logshipping'\r\n",
                " BackupScheduleFrequencyType = 'daily'\r\n",
                " BackupScheduleFrequencyInterval = 1\r\n",
                " BackupScheduleDisabled = $true\r\n",
                " CompressBackup = $true\r\n",
                " CopyScheduleFrequencyType = 'daily'\r\n",
                " CopyScheduleFrequencyInterval = 1\r\n",
                " CopyScheduleDisabled = $true\r\n",
                " GenerateFullBackup = $true\r\n",
                " RestoreScheduleFrequencyType = 'daily'\r\n",
                " RestoreScheduleFrequencyInterval = 1\r\n",
                " RestoreScheduleDisable = $true\r\n",
                " SecondaryDatabaseSuffix = 'DR'\r\n",
                " CopyDestinationFolder = '\\\\localhost\\LogShippingDest'\r\n",
                " Force = $true\r\n",
                " Standby = $true\r\n",
                " DisconnectUsers = $true\r\n",
                " }\r\n",
                "\r\n",
                "Invoke-DbaDbLogShipping @params;\r\n",
                ""
            ],
            "metadata": {
                "azdata_cell_guid": "11e46b5b-8087-4416-bc22-ed6d6f062c6d"
            },
            "outputs": [
                {
                    "name": "stdout",
                    "text": "\n\nPrimaryInstance   : FD-PF33VX6J\nSecondaryInstance : FD-PF33VX6J\\TONY\nPrimaryDatabase   : LSTest\nSecondaryDatabase : LSTestDR\nResult            : Success\nComment           : \n\n\n\n",
                    "output_type": "stream"
                }
            ],
            "execution_count": 107
        },
        {
            "cell_type": "markdown",
            "source": [
                "## Select from Primary and Secondary Tables"
            ],
            "metadata": {
                "azdata_cell_guid": "547c6e88-4ce2-4cd2-b5cc-4f747b6f4ee6"
            },
            "attachments": {}
        },
        {
            "cell_type": "code",
            "source": [
                "$select = @\"\r\n",
                "SELECT \r\n",
                "@@SERVERNAME, * \r\n",
                "FROM TestTable\r\n",
                "\"@\r\n",
                "$primary = \"localhost\";\r\n",
                "$secondary = \"localhost\\tony\"\r\n",
                "$primarydb = \"LSTest\";\r\n",
                "$secondarydb = \"LSTestDR\";\r\n",
                "\r\n",
                "Invoke-Sqlcmd -ServerInstance $primary -Database $primarydb -Query $select;\r\n",
                "Invoke-Sqlcmd -ServerInstance $secondary -Database $secondarydb -Query $select;\r\n",
                ""
            ],
            "metadata": {
                "azdata_cell_guid": "7cba2c8e-396a-4ef7-aebb-e4ea19cf216c"
            },
            "outputs": [
                {
                    "name": "stdout",
                    "text": "\n",
                    "output_type": "stream"
                },
                {
                    "name": "stdout",
                    "text": "Column1          Col1 Col2 Col3    \n-------          ---- ---- ----    \nFD-PF33VX6J         1 Log  Shipping\nFD-PF33VX6J\\TONY    1 Log  Shipping\n\n\n",
                    "output_type": "stream"
                }
            ],
            "execution_count": 108
        },
        {
            "cell_type": "markdown",
            "source": [
                "## Insert Into Primary Table"
            ],
            "metadata": {
                "azdata_cell_guid": "4d8bba02-4ee5-4c1e-baa4-06125f4d529e"
            }
        },
        {
            "cell_type": "code",
            "source": [
                "$insert = @\"\r\n",
                "INSERT INTO TestTable\r\n",
                "(Col2\r\n",
                ",Col3)\r\n",
                "VALUES\r\n",
                "('Is'\r\n",
                ",'Resilient')\r\n",
                "\"@\r\n",
                "$primary = \"localhost\";\r\n",
                "$primarydb = \"LSTest\";\r\n",
                "\r\n",
                "Invoke-Sqlcmd -ServerInstance $primary -Database $primarydb -Query $insert;"
            ],
            "metadata": {
                "azdata_cell_guid": "3227f849-a052-426f-bdbd-4556716960ee"
            },
            "outputs": [
                {
                    "name": "stdout",
                    "text": ". {\n",
                    "output_type": "stream"
                },
                {
                    "name": "stdout",
                    "text": ">> $insert = @\"\n>> INSERT INTO TestTable\n>> (Col2\n>> ,Col3)\n>> VALUES\n>> ('Is'\n>> ,'Resilient')\n>> \"@\n>> $primary = \"localhost\";\n>> $primarydb = \"LSTest\";\n>> \n>> Invoke-Sqlcmd -ServerInstance $primary -Database $primarydb -Query $insert;\n>> }\n>> \n",
                    "output_type": "stream"
                }
            ],
            "execution_count": 109
        },
        {
            "cell_type": "markdown",
            "source": [
                "## Select from Primary and Secondary Tables"
            ],
            "metadata": {
                "azdata_cell_guid": "a768b1d5-56b8-4483-91e1-af467f55f984"
            },
            "attachments": {}
        },
        {
            "cell_type": "code",
            "source": [
                "$select = @\"\r\n",
                "SELECT \r\n",
                "@@SERVERNAME, * \r\n",
                "FROM TestTable\r\n",
                "\"@\r\n",
                "$primary = \"localhost\";\r\n",
                "$secondary = \"localhost\\tony\"\r\n",
                "$primarydb = \"LSTest\";\r\n",
                "$secondarydb = \"LSTestDR\";\r\n",
                "\r\n",
                "Invoke-Sqlcmd -ServerInstance $primary -Database $primarydb -Query $select;\r\n",
                "Invoke-Sqlcmd -ServerInstance $secondary -Database $secondarydb -Query $select;\r\n",
                ""
            ],
            "metadata": {
                "azdata_cell_guid": "0679e7df-42f4-4ba2-ace4-ea2830395d45"
            },
            "outputs": [
                {
                    "name": "stdout",
                    "text": "\nColumn1          Col1 Col2 Col3     \n-------          ---- ---- ----     \nFD-PF33VX6J         1 Log  Shipping \nFD-PF33VX6J         2 Is   Resilient\nFD-PF33VX6J\\TONY    1 Log  Shipping \n\n\n",
                    "output_type": "stream"
                }
            ],
            "execution_count": 110
        },
        {
            "cell_type": "markdown",
            "source": [
                "## Execute Log Shipping Jobs"
            ],
            "metadata": {
                "azdata_cell_guid": "05e898c5-4587-40e2-ba0b-a7bbc10a97e7"
            },
            "attachments": {}
        },
        {
            "cell_type": "code",
            "source": [
                "Start-DbaAgentJob -SqlInstance \"localhost\" -Job LSBackup_LSTest;\r\n",
                "Start-Sleep -Seconds 5;\r\n",
                "Start-DbaAgentJob -SqlInstance \"localhost\\tony\" -Job LSCopy_localhost_LSTest;\r\n",
                "Start-Sleep -Seconds 5;\r\n",
                "Start-DbaAgentJob -SqlInstance \"localhost\\tony\" -Job LSRestore_localhost_LSTest;"
            ],
            "metadata": {
                "azdata_cell_guid": "93a2b191-e26d-462a-9410-4e6e4f9fc5c9",
                "tags": []
            },
            "outputs": [
                {
                    "name": "stdout",
                    "text": "\n",
                    "output_type": "stream"
                },
                {
                    "name": "stdout",
                    "text": "Name                   \n----                   \nLSBackup_LSTest        \nLSCopy_localhost_LSTest\n",
                    "output_type": "stream"
                },
                {
                    "name": "stdout",
                    "text": "LSRestore_localhost_...\n\n\n",
                    "output_type": "stream"
                }
            ],
            "execution_count": 111
        },
        {
            "cell_type": "markdown",
            "source": [
                "## Select from Primary and Secondary Tables"
            ],
            "metadata": {
                "azdata_cell_guid": "de1f7fc6-a75d-4592-834a-daefb2504694"
            },
            "attachments": {}
        },
        {
            "cell_type": "code",
            "source": [
                "$select = @\"\r\n",
                "SELECT \r\n",
                "@@SERVERNAME, * \r\n",
                "FROM TestTable\r\n",
                "\"@\r\n",
                "$primary = \"localhost\";\r\n",
                "$secondary = \"localhost\\tony\"\r\n",
                "$primarydb = \"LSTest\";\r\n",
                "$secondarydb = \"LSTestDR\";\r\n",
                "\r\n",
                "Invoke-Sqlcmd -ServerInstance $primary -Database $primarydb -Query $select;\r\n",
                "Invoke-Sqlcmd -ServerInstance $secondary -Database $secondarydb -Query $select;\r\n",
                ""
            ],
            "metadata": {
                "azdata_cell_guid": "92bca222-27a8-42d1-ad2e-71fd4a9e59eb"
            },
            "outputs": [
                {
                    "name": "stdout",
                    "text": "\nColumn1          Col1 Col2 Col3     \n-------          ---- ---- ----     \nFD-PF33VX6J         1 Log  Shipping \nFD-PF33VX6J         2 Is   Resilient\nFD-PF33VX6J\\TONY    1 Log  Shipping \nFD-PF33VX6J\\TONY    2 Is   Resilient\n\n\n",
                    "output_type": "stream"
                }
            ],
            "execution_count": 112
        },
        {
            "cell_type": "markdown",
            "source": [
                "## Stop Primary SQL Server Service and Recover Secondary Database\r\n",
                "This step simulates a failure of the primary SQL instance and recovers the database on the secondary."
            ],
            "metadata": {
                "azdata_cell_guid": "a78f3a58-a8c1-4a01-97d1-d68d36e8cac1"
            }
        },
        {
            "cell_type": "code",
            "source": [
                "Stop-Service -Name MSSQLSERVER -Force;\r\n",
                "Get-Service -Name MSSQLSERVER | Select DisplayName, Status;\r\n",
                "Get-Service -Name SQLSERVERAGENT | Select DisplayName, Status;\r\n",
                "\r\n",
                "Invoke-DbaDbLogShipRecovery -SqlInstance 'localhost\\tony' -Force;"
            ],
            "metadata": {
                "azdata_cell_guid": "6e390802-1095-47cb-a012-e25a321ad81d"
            },
            "outputs": [
                {
                    "name": "stdout",
                    "text": "Stop-Service : Service 'SQL Server (MSSQLSERVER) (MSSQLSERVER)' cannot be stopped due to the following error: Cannot \nopen MSSQLSERVER service on computer '.'.\nAt line:2 char:1\n+ Stop-Service -Name MSSQLSERVER -Force;\n+ ~~~~~~~~~~~~~~~~~~~~~~~~~~~~~~~~~~~~~\n    + CategoryInfo          : CloseError: (System.ServiceProcess.ServiceController:ServiceController) [Stop-Service],  \n   ServiceCommandException\n    + FullyQualifiedErrorId : CouldNotStopService,Microsoft.PowerShell.Commands.StopServiceCommand\n \nStop-Service : Collection was modified; enumeration operation may not execute.\nAt line:2 char:1\n+ Stop-Service -Name MSSQLSERVER -Force;\n+ ~~~~~~~~~~~~~~~~~~~~~~~~~~~~~~~~~~~~~\n    + CategoryInfo          : NotSpecified: (:) [Stop-Service], InvalidOperationException\n    + FullyQualifiedErrorId : System.InvalidOperationException,Microsoft.PowerShell.Commands.StopServiceCommand\n \n\n",
                    "output_type": "stream"
                },
                {
                    "name": "stdout",
                    "text": "WARNING: [16:21:18][Invoke-DbaDbLogShipRecovery] The database [master] is not configured as a secondary database for \nlog shipping.\nWARNING: [16:21:18][Invoke-DbaDbLogShipRecovery] The database [tempdb] is not configured as a secondary database for \nlog shipping.\nWARNING: [16:21:18][Invoke-DbaDbLogShipRecovery] The database [model] is not configured as a secondary database for log\n shipping.\n",
                    "output_type": "stream"
                },
                {
                    "name": "stdout",
                    "text": "WARNING: [16:21:18][Invoke-DbaDbLogShipRecovery] The database [msdb] is not configured as a secondary database for log \nshipping.\nWARNING: [16:21:18][Invoke-DbaDbLogShipRecovery] The database [WideWorldImporters] is not configured as a secondary \ndatabase for log shipping.\nWARNING: [16:21:18][Invoke-DbaDbLogShipRecovery] The database [WWI_BIG] is not configured as a secondary database for \nlog shipping.\n",
                    "output_type": "stream"
                },
                {
                    "name": "stdout",
                    "text": "WARNING: [16:21:40][Invoke-DbaDbLogShipRecovery] Something went wrong restoring the database to a normal state.\nException calling \"Query\" with \"1\" argument(s): \"Exception calling \"ExecuteWithResults\" with \"1\" argument(s): \"Execute \nwith results failed for Database 'master'. \"\" | Error connecting to [localhost\\tony]: Exclusive access could not be \nobtained because the database is in use.\nRESTORE DATABASE is terminating abnormally.\nDisplayName                     Status\n-----------                     ------\nSQL Server (MSSQLSERVER)       Running\nSQL Server Agent (MSSQLSERVER) Running\n                                      \n\n\n",
                    "output_type": "stream"
                }
            ],
            "execution_count": 93
        },
        {
            "cell_type": "markdown",
            "source": [
                "## Select from New Primary Table"
            ],
            "metadata": {
                "azdata_cell_guid": "576835d1-d7fc-457b-bbeb-cc3e5517e873"
            }
        },
        {
            "cell_type": "code",
            "source": [
                "$select = @\"\r\n",
                "SELECT \r\n",
                "@@SERVERNAME, * \r\n",
                "FROM TestTable\r\n",
                "\"@\r\n",
                "\r\n",
                "$primary = \"localhost\\tony\"\r\n",
                "$primarydb = \"LSTestDR\";\r\n",
                "\r\n",
                "Invoke-Sqlcmd -ServerInstance $primary -Database $primarydb -Query $select;"
            ],
            "metadata": {
                "azdata_cell_guid": "501f23ec-2f6f-4f02-8ea8-28cda72bfc34"
            },
            "outputs": [
                {
                    "name": "stdout",
                    "text": "\nColumn1          Col1 Col2 Col3     \n-------          ---- ---- ----     \nFD-PF33VX6J\\TONY    1 Log  Shipping \nFD-PF33VX6J\\TONY    2 Is   Resilient\n\n\n",
                    "output_type": "stream"
                }
            ],
            "execution_count": 100
        }
    ]
}