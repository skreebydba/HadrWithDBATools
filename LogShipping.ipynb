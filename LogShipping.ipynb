{
    "metadata": {
        "kernelspec": {
            "name": "powershell",
            "display_name": "PowerShell",
            "language": "powershell"
        },
        "language_info": {
            "name": "powershell",
            "codemirror_mode": "shell",
            "mimetype": "text/x-sh",
            "file_extension": ".ps1"
        }
    },
    "nbformat_minor": 2,
    "nbformat": 4,
    "cells": [
        {
            "cell_type": "markdown",
            "source": [
                "# DBATools Log Shipping Demo\r\n",
                "## Configure Log Shipping"
            ],
            "metadata": {
                "azdata_cell_guid": "cc0d80f8-da67-4433-b0c6-e9a2af79a6d6"
            },
            "attachments": {}
        },
        {
            "cell_type": "code",
            "source": [
                "Remove-DbaDbLogShipping -PrimarySqlInstance 'localhost' -SecondarySqlInstance 'localhost\\tony' -Database LSTest;\r\n",
                "Remove-DbaDatabase -SqlInstance 'localhost\\tony' -Database LSTestDR -Confirm:$false;"
            ],
            "metadata": {
                "azdata_cell_guid": "278a9094-8fd2-4ce3-939c-84398c77588e",
                "language": "powershell"
            },
            "outputs": [],
            "execution_count": null
        },
        {
            "cell_type": "code",
            "source": [
                "Remove-Item -Path \"C:\\LogShipping\\LSTest\\*\";\r\n",
                "Remove-Item -Path \"\\\\localhost\\LogShippingDest\\LSTest\\*\";\r\n",
                "Remove-Item -Path \"C:\\LogShippingDest\\LSTest\\*\";\r\n",
                "\r\n",
                "$params = @{\r\n",
                " SourceSqlInstance = 'localhost'\r\n",
                " DestinationSqlInstance = 'localhost\\tony'\r\n",
                " Database = 'LSTest'\r\n",
                " SharedPath= '\\\\localhost\\LogShipping'\r\n",
                " LocalPath= 'C:\\logshipping'\r\n",
                " BackupScheduleFrequencyType = 'daily'\r\n",
                " BackupScheduleFrequencyInterval = 1\r\n",
                " BackupScheduleDisabled = $false\r\n",
                " CompressBackup = $true\r\n",
                " CopyScheduleFrequencyType = 'daily'\r\n",
                " CopyScheduleFrequencyInterval = 1\r\n",
                " CopyScheduleDisabled = $false\r\n",
                " GenerateFullBackup = $true\r\n",
                " RestoreScheduleFrequencyType = 'daily'\r\n",
                " RestoreScheduleFrequencyInterval = 1\r\n",
                " RestoreScheduleDisable = $false\r\n",
                " SecondaryDatabaseSuffix = 'DR'\r\n",
                " CopyDestinationFolder = '\\\\localhost\\LogShippingDest'\r\n",
                " Force = $true\r\n",
                " Standby = $true\r\n",
                " DisconnectUsers = $true\r\n",
                " }\r\n",
                "\r\n",
                "Invoke-DbaDbLogShipping @params;\r\n",
                ""
            ],
            "metadata": {
                "azdata_cell_guid": "11e46b5b-8087-4416-bc22-ed6d6f062c6d",
                "language": "powershell"
            },
            "outputs": [],
            "execution_count": null
        },
        {
            "cell_type": "markdown",
            "source": [
                "## Select from Primary and Secondary Tables"
            ],
            "metadata": {
                "azdata_cell_guid": "547c6e88-4ce2-4cd2-b5cc-4f747b6f4ee6"
            },
            "attachments": {}
        },
        {
            "cell_type": "code",
            "source": [
                "$select = @\"\r\n",
                "SELECT \r\n",
                "@@SERVERNAME, * \r\n",
                "FROM TestTable\r\n",
                "\"@\r\n",
                "$primary = \"localhost\";\r\n",
                "$secondary = \"localhost\\tony\"\r\n",
                "$primarydb = \"LSTest\";\r\n",
                "$secondarydb = \"LSTestDR\";\r\n",
                "\r\n",
                "Invoke-Sqlcmd -ServerInstance $primary -Database $primarydb -Query $select;\r\n",
                "Invoke-Sqlcmd -ServerInstance $secondary -Database $secondarydb -Query $select;\r\n",
                ""
            ],
            "metadata": {
                "azdata_cell_guid": "7cba2c8e-396a-4ef7-aebb-e4ea19cf216c",
                "language": "powershell"
            },
            "outputs": [],
            "execution_count": null
        },
        {
            "cell_type": "markdown",
            "source": [
                "## Insert Into Primary Table"
            ],
            "metadata": {
                "azdata_cell_guid": "4d8bba02-4ee5-4c1e-baa4-06125f4d529e"
            }
        },
        {
            "cell_type": "code",
            "source": [
                "$insert = @\"\r\n",
                "INSERT INTO TestTable\r\n",
                "(Col2\r\n",
                ",Col3)\r\n",
                "VALUES\r\n",
                "('Is'\r\n",
                ",'Resilient')\r\n",
                "\"@\r\n",
                "$primary = \"localhost\";\r\n",
                "$primarydb = \"LSTest\";\r\n",
                "\r\n",
                "Invoke-Sqlcmd -ServerInstance $primary -Database $primarydb -Query $insert;"
            ],
            "metadata": {
                "azdata_cell_guid": "3227f849-a052-426f-bdbd-4556716960ee",
                "language": "powershell"
            },
            "outputs": [],
            "execution_count": null
        },
        {
            "cell_type": "markdown",
            "source": [
                "## Select from Primary and Secondary Tables"
            ],
            "metadata": {
                "azdata_cell_guid": "a768b1d5-56b8-4483-91e1-af467f55f984"
            },
            "attachments": {}
        },
        {
            "cell_type": "code",
            "source": [
                "$select = @\"\r\n",
                "SELECT \r\n",
                "@@SERVERNAME, * \r\n",
                "FROM TestTable\r\n",
                "\"@\r\n",
                "$primary = \"localhost\";\r\n",
                "$secondary = \"localhost\\tony\"\r\n",
                "$primarydb = \"LSTest\";\r\n",
                "$secondarydb = \"LSTestDR\";\r\n",
                "\r\n",
                "Invoke-Sqlcmd -ServerInstance $primary -Database $primarydb -Query $select;\r\n",
                "Invoke-Sqlcmd -ServerInstance $secondary -Database $secondarydb -Query $select;\r\n",
                ""
            ],
            "metadata": {
                "azdata_cell_guid": "0679e7df-42f4-4ba2-ace4-ea2830395d45",
                "language": "powershell"
            },
            "outputs": [],
            "execution_count": null
        },
        {
            "cell_type": "markdown",
            "source": [
                "## Execute Log Shipping Jobs"
            ],
            "metadata": {
                "azdata_cell_guid": "05e898c5-4587-40e2-ba0b-a7bbc10a97e7"
            },
            "attachments": {}
        },
        {
            "cell_type": "code",
            "source": [
                "Start-DbaAgentJob -SqlInstance \"localhost\" -Job LSBackup_LSTest -Wait;\r\n",
                "Start-DbaAgentJob -SqlInstance \"localhost\\tony\" -Job LSCopy_localhost_LSTest -Wait;\r\n",
                "Start-DbaAgentJob -SqlInstance \"localhost\\tony\" -Job LSRestore_localhost_LSTest -Wait;"
            ],
            "metadata": {
                "azdata_cell_guid": "93a2b191-e26d-462a-9410-4e6e4f9fc5c9",
                "tags": [],
                "language": "powershell"
            },
            "outputs": [],
            "execution_count": null
        },
        {
            "cell_type": "markdown",
            "source": [
                "## Select from Primary and Secondary Tables"
            ],
            "metadata": {
                "azdata_cell_guid": "de1f7fc6-a75d-4592-834a-daefb2504694"
            },
            "attachments": {}
        },
        {
            "cell_type": "code",
            "source": [
                "$select = @\"\r\n",
                "SELECT \r\n",
                "@@SERVERNAME, * \r\n",
                "FROM TestTable\r\n",
                "\"@\r\n",
                "$primary = \"localhost\";\r\n",
                "$secondary = \"localhost\\tony\"\r\n",
                "$primarydb = \"LSTest\";\r\n",
                "$secondarydb = \"LSTestDR\";\r\n",
                "\r\n",
                "Invoke-Sqlcmd -ServerInstance $primary -Database $primarydb -Query $select;\r\n",
                "Invoke-Sqlcmd -ServerInstance $secondary -Database $secondarydb -Query $select;\r\n",
                ""
            ],
            "metadata": {
                "azdata_cell_guid": "92bca222-27a8-42d1-ad2e-71fd4a9e59eb",
                "language": "powershell"
            },
            "outputs": [],
            "execution_count": null
        },
        {
            "cell_type": "markdown",
            "source": [
                "## Stop Primary SQL Server Service and Recover Secondary Database\n",
                "\n",
                "This step simulates a failure of the primary SQL instance and recovers the database on the secondary.\n",
                "\n",
                "- Stops the SQL Server service on the localhost\n",
                "- Kills any open connections to the LSTestDR database on localhost\\\\tony\n",
                "- Runs Invoke-DbaDbLogShipRecovery to bring the secondary database online"
            ],
            "metadata": {
                "azdata_cell_guid": "a78f3a58-a8c1-4a01-97d1-d68d36e8cac1"
            },
            "attachments": {}
        },
        {
            "cell_type": "code",
            "source": [
                "Stop-Service -Name MSSQLSERVER -Force;\r\n",
                "Stop-DbaProcess -SqlInstance 'localhost\\tony' -Database LSTestDR;\r\n",
                "\r\n",
                "Invoke-DbaDbLogShipRecovery -SqlInstance 'localhost\\tony' -Force;"
            ],
            "metadata": {
                "azdata_cell_guid": "6e390802-1095-47cb-a012-e25a321ad81d",
                "language": "powershell"
            },
            "outputs": [],
            "execution_count": null
        },
        {
            "cell_type": "markdown",
            "source": [
                "## Select from New Primary Table"
            ],
            "metadata": {
                "azdata_cell_guid": "576835d1-d7fc-457b-bbeb-cc3e5517e873"
            }
        },
        {
            "cell_type": "code",
            "source": [
                "$select = @\"\r\n",
                "SELECT \r\n",
                "@@SERVERNAME, * \r\n",
                "FROM TestTable\r\n",
                "\"@\r\n",
                "\r\n",
                "$primary = \"localhost\\tony\"\r\n",
                "$primarydb = \"LSTestDR\";\r\n",
                "\r\n",
                "Invoke-Sqlcmd -ServerInstance $primary -Database $primarydb -Query $select;"
            ],
            "metadata": {
                "azdata_cell_guid": "501f23ec-2f6f-4f02-8ea8-28cda72bfc34",
                "language": "powershell"
            },
            "outputs": [],
            "execution_count": null
        },
        {
            "cell_type": "markdown",
            "source": [
                "## Insert Into New Primary Table"
            ],
            "metadata": {
                "language": "powershell",
                "azdata_cell_guid": "53a36a17-707d-4773-8bda-15d32a843742"
            },
            "attachments": {}
        },
        {
            "cell_type": "code",
            "source": [
                "$insert = @\"\r\n",
                "INSERT INTO TestTable\r\n",
                "(Col2\r\n",
                ",Col3)\r\n",
                "VALUES\r\n",
                "('Is'\r\n",
                ",'Failed Over')\r\n",
                "\"@\r\n",
                "$primary = \"localhost\\tony\";\r\n",
                "$primarydb = \"LSTestDR\";\r\n",
                "\r\n",
                "Invoke-Sqlcmd -ServerInstance $primary -Database $primarydb -Query $insert;"
            ],
            "metadata": {
                "language": "powershell",
                "azdata_cell_guid": "b1b78da3-b1ff-49e3-af4c-e5046ffb38fc"
            },
            "outputs": [],
            "execution_count": null
        },
        {
            "cell_type": "markdown",
            "source": [
                "## Select from New Primary Table After Insert"
            ],
            "metadata": {
                "language": "powershell",
                "azdata_cell_guid": "3df0aa47-25f0-42b7-b4cf-2808eda174d8"
            },
            "attachments": {}
        },
        {
            "cell_type": "code",
            "source": [
                "$select = @\"\r\n",
                "SELECT \r\n",
                "@@SERVERNAME, * \r\n",
                "FROM TestTable\r\n",
                "\"@\r\n",
                "\r\n",
                "$primary = \"localhost\\tony\"\r\n",
                "$primarydb = \"LSTestDR\";\r\n",
                "\r\n",
                "Invoke-Sqlcmd -ServerInstance $primary -Database $primarydb -Query $select;"
            ],
            "metadata": {
                "language": "powershell",
                "azdata_cell_guid": "7e95887f-e19e-45a2-8885-067b963bcdd6"
            },
            "outputs": [],
            "execution_count": null
        },
        {
            "cell_type": "markdown",
            "source": [
                "# Restart Primary SQL Service"
            ],
            "metadata": {
                "azdata_cell_guid": "534b3a8b-61d2-4873-a4c6-06e00995cc7b"
            },
            "attachments": {}
        },
        {
            "cell_type": "code",
            "source": [
                "Start-Service -Name MSSQLSERVER;\r\n",
                "Start-Service -Name SQLSERVERAGENT;"
            ],
            "metadata": {
                "azdata_cell_guid": "d2772fb6-1085-4dc0-b81e-3fe7e6f1e4ce",
                "language": "powershell"
            },
            "outputs": [],
            "execution_count": null
        }
    ]
}